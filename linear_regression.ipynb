{
  "nbformat": 4,
  "nbformat_minor": 0,
  "metadata": {
    "colab": {
      "name": "linear_regression.ipynb",
      "provenance": [],
      "collapsed_sections": [],
      "include_colab_link": true
    },
    "kernelspec": {
      "name": "python3",
      "display_name": "Python 3"
    }
  },
  "cells": [
    {
      "cell_type": "markdown",
      "metadata": {
        "id": "view-in-github",
        "colab_type": "text"
      },
      "source": [
        "<a href=\"https://colab.research.google.com/github/nalmas-santhu/test/blob/master/linear_regression.ipynb\" target=\"_parent\"><img src=\"https://colab.research.google.com/assets/colab-badge.svg\" alt=\"Open In Colab\"/></a>"
      ]
    },
    {
      "cell_type": "code",
      "metadata": {
        "id": "DtNY3FRyQEAJ",
        "colab_type": "code",
        "colab": {
          "base_uri": "https://localhost:8080/",
          "height": 833
        },
        "outputId": "85318092-fbcf-4c08-f901-c3fe78cf1504"
      },
      "source": [
        "import pandas as pd\n",
        "from sklearn.linear_model import LinearRegression # to build linear regression model\n",
        "from sklearn.model_selection import train_test_split # to split dataset\n",
        "import io\n",
        "import matplotlib.pyplot as plt\n",
        "\n",
        "#from google.colab import files\n",
        "#uploaded = files.upload() \n",
        "##data2 = pd.DataFrame(data1['pytest.csv'])\n",
        "\n",
        "#data2=pd.read_csv(io.BytesIO(uploaded['pytest.csv']))\n",
        "url='https://raw.githubusercontent.com/nalmas-santhu/test/master/test1.csv'\n",
        "data2=pd.read_csv(url)\n",
        "print(data2)\n",
        "#data2 = data2.reset_index() # will create new index (0 to 65700) so date column wont be an index now.   optional: to have one more column index\n",
        "X = data2.iloc[:,0].values.reshape(-1,1)   # date column\n",
        "y = data2.iloc[:,1].values.reshape(-1,1)  # kwh column\n",
        "\n",
        "\n",
        "print(y)\n",
        "\n",
        "Xtrain, Xtest, ytrain, ytest = train_test_split(X, y, train_size=0.70, random_state=0)  \n",
        "\n",
        "linearModel = LinearRegression()\n",
        "\n",
        "linearModel.fit(Xtrain, ytrain)\n",
        "\n",
        "ypred = linearModel.predict(Xtest)\n",
        "print(ytest)\n",
        "print(ypred)\n",
        "print(Xtest)\n"
      ],
      "execution_count": 1,
      "outputs": [
        {
          "output_type": "stream",
          "text": [
            "      1     3\n",
            "0   1.5   4.5\n",
            "1   2.0   5.0\n",
            "2   2.0   3.5\n",
            "3   2.5   3.5\n",
            "4   2.5   5.0\n",
            "5   3.0   6.5\n",
            "6   3.0   9.0\n",
            "7   3.5  10.5\n",
            "8   4.0  12.0\n",
            "9   4.5  13.5\n",
            "10  5.0  15.0\n",
            "11  5.5  12.0\n",
            "12  6.0  18.0\n",
            "13  6.5  19.5\n",
            "14  7.0  21.0\n",
            "15  7.0  20.0\n",
            "[[ 4.5]\n",
            " [ 5. ]\n",
            " [ 3.5]\n",
            " [ 3.5]\n",
            " [ 5. ]\n",
            " [ 6.5]\n",
            " [ 9. ]\n",
            " [10.5]\n",
            " [12. ]\n",
            " [13.5]\n",
            " [15. ]\n",
            " [12. ]\n",
            " [18. ]\n",
            " [19.5]\n",
            " [21. ]\n",
            " [20. ]]\n",
            "[[ 5. ]\n",
            " [ 9. ]\n",
            " [12. ]\n",
            " [13.5]\n",
            " [19.5]]\n",
            "[[ 3.94352159]\n",
            " [ 7.18272425]\n",
            " [10.42192691]\n",
            " [12.04152824]\n",
            " [18.51993355]]\n",
            "[[2. ]\n",
            " [3. ]\n",
            " [4. ]\n",
            " [4.5]\n",
            " [6.5]]\n"
          ],
          "name": "stdout"
        }
      ]
    },
    {
      "cell_type": "code",
      "metadata": {
        "id": "TLc73bZBQHPh",
        "colab_type": "code",
        "colab": {
          "base_uri": "https://localhost:8080/",
          "height": 286
        },
        "outputId": "9c1d9f48-b4a6-459f-a7bc-c7f5609973ab"
      },
      "source": [
        "plt.scatter(Xtrain, ytrain, color = 'red')\n",
        "plt.plot(Xtest, ypred, color = 'blue')\n",
        "plt.plot(Xtest, ytest, color = 'black')"
      ],
      "execution_count": 2,
      "outputs": [
        {
          "output_type": "execute_result",
          "data": {
            "text/plain": [
              "[<matplotlib.lines.Line2D at 0x7fea1a247fd0>]"
            ]
          },
          "metadata": {
            "tags": []
          },
          "execution_count": 2
        },
        {
          "output_type": "display_data",
          "data": {
            "image/png": "[encoded data removed]",
            "text/plain": [
              "<Figure size 432x288 with 1 Axes>"
            ]
          },
          "metadata": {
            "tags": []
          }
        }
      ]
    },
    {
      "cell_type": "code",
      "metadata": {
        "id": "vt4xT9FKQJ2r",
        "colab_type": "code",
        "colab": {}
      },
      "source": [
        ""
      ],
      "execution_count": 0,
      "outputs": []
    }
  ]
}